{
 "cells": [
  {
   "cell_type": "code",
   "execution_count": 1,
   "id": "2723e1a4",
   "metadata": {},
   "outputs": [],
   "source": [
    "# Import the random module\n",
    "import random"
   ]
  },
  {
   "cell_type": "code",
   "execution_count": 2,
   "id": "a0c46239",
   "metadata": {},
   "outputs": [
    {
     "data": {
      "text/plain": [
       "26"
      ]
     },
     "execution_count": 2,
     "metadata": {},
     "output_type": "execute_result"
    }
   ],
   "source": [
    "random.randint(-90,90)"
   ]
  },
  {
   "cell_type": "code",
   "execution_count": 3,
   "id": "b7d25cd9",
   "metadata": {},
   "outputs": [
    {
     "data": {
      "text/plain": [
       "0.22539405340675756"
      ]
     },
     "execution_count": 3,
     "metadata": {},
     "output_type": "execute_result"
    }
   ],
   "source": [
    "random.random()"
   ]
  },
  {
   "cell_type": "code",
   "execution_count": 4,
   "id": "7179891f",
   "metadata": {},
   "outputs": [
    {
     "data": {
      "text/plain": [
       "5.004492150341729"
      ]
     },
     "execution_count": 4,
     "metadata": {},
     "output_type": "execute_result"
    }
   ],
   "source": [
    "random_number = random.randint(-90, 89) + random.random()\n",
    "random_number"
   ]
  },
  {
   "cell_type": "code",
   "execution_count": 5,
   "id": "b50a5e17",
   "metadata": {},
   "outputs": [],
   "source": [
    "# Generate 10 latitudes\n",
    "x = 1\n",
    "latitudes = []\n",
    "while x < 11:\n",
    "    random_lat = random.randint(-90,89) + random.random()\n",
    "    latitudes.append(random_lat)\n",
    "    x += 1"
   ]
  },
  {
   "cell_type": "code",
   "execution_count": 6,
   "id": "0f26f135",
   "metadata": {},
   "outputs": [
    {
     "data": {
      "text/plain": [
       "[88.02868475955809,\n",
       " -80.57811650815023,\n",
       " -3.440456813775307,\n",
       " -68.2676948357656,\n",
       " 17.393044534713148,\n",
       " 31.90613112569815,\n",
       " -43.95267175507947,\n",
       " 88.22825249321085,\n",
       " -80.7174807221086,\n",
       " -77.236034537474]"
      ]
     },
     "execution_count": 6,
     "metadata": {},
     "output_type": "execute_result"
    }
   ],
   "source": [
    "latitudes"
   ]
  },
  {
   "cell_type": "code",
   "execution_count": 8,
   "id": "a5b1ca03",
   "metadata": {},
   "outputs": [
    {
     "data": {
      "text/plain": [
       "-33"
      ]
     },
     "execution_count": 8,
     "metadata": {},
     "output_type": "execute_result"
    }
   ],
   "source": [
    "random.randrange(-90,90,step=3)"
   ]
  },
  {
   "cell_type": "code",
   "execution_count": 9,
   "id": "e32e50e9",
   "metadata": {},
   "outputs": [
    {
     "data": {
      "text/plain": [
       "22.06976273766584"
      ]
     },
     "execution_count": 9,
     "metadata": {},
     "output_type": "execute_result"
    }
   ],
   "source": [
    "random.uniform(-90,90)"
   ]
  },
  {
   "cell_type": "code",
   "execution_count": 10,
   "id": "be517314",
   "metadata": {},
   "outputs": [],
   "source": [
    "# Import the NumPy module\n",
    "import numpy as np"
   ]
  },
  {
   "cell_type": "code",
   "execution_count": 11,
   "id": "feb4de8b",
   "metadata": {},
   "outputs": [
    {
     "data": {
      "text/plain": [
       "23.523447569207278"
      ]
     },
     "execution_count": 11,
     "metadata": {},
     "output_type": "execute_result"
    }
   ],
   "source": [
    "np.random.uniform(-90.000, 90.000)"
   ]
  },
  {
   "cell_type": "code",
   "execution_count": 12,
   "id": "a5502e43",
   "metadata": {},
   "outputs": [
    {
     "data": {
      "text/plain": [
       "array([-15.55432026, -69.26925891,  23.57030235,  87.49611582,\n",
       "       -70.29805817,  27.06658234,  -7.76601066,  16.78190358,\n",
       "        42.64049694,  11.31355703,  78.99783498,   3.66271988,\n",
       "       -64.81293606,  39.3817979 ,  -3.08878817,  -9.77074179,\n",
       "       -43.8196123 , -87.67900388,  58.64480494,  13.39780702,\n",
       "       -35.67236588, -11.53658032,  62.48828123,  68.15421039,\n",
       "       -47.21147163, -77.95599356,  24.72346408,  21.17650332,\n",
       "        50.55819458, -64.13486758,  18.40281824, -53.18723983,\n",
       "       -75.3144503 ,  41.02727749,  85.65898686, -86.92211697,\n",
       "        81.78619135,  35.39042939,  65.47183723,  56.55123553,\n",
       "        88.79357043, -82.50055689,  -7.30090852, -16.21006994,\n",
       "        63.91351483, -72.01002149,  67.95942426,  82.79100909,\n",
       "       -76.0003759 ,  13.27333735])"
      ]
     },
     "execution_count": 12,
     "metadata": {},
     "output_type": "execute_result"
    }
   ],
   "source": [
    "np.random.uniform(-90.000, 90.000, size=50)"
   ]
  },
  {
   "cell_type": "code",
   "execution_count": 13,
   "id": "1c4f7a35",
   "metadata": {},
   "outputs": [],
   "source": [
    "# Import timeit\n",
    "import timeit"
   ]
  },
  {
   "cell_type": "code",
   "execution_count": 14,
   "id": "a2ca68a7",
   "metadata": {},
   "outputs": [
    {
     "name": "stdout",
     "output_type": "stream",
     "text": [
      "41 µs ± 729 ns per loop (mean ± std. dev. of 7 runs, 10000 loops each)\n"
     ]
    }
   ],
   "source": [
    "%timeit np.random.uniform(-90.000, 90.000, size=1500)"
   ]
  },
  {
   "cell_type": "code",
   "execution_count": 15,
   "id": "7aaecbe6",
   "metadata": {},
   "outputs": [
    {
     "name": "stdout",
     "output_type": "stream",
     "text": [
      "4.74 ms ± 77.3 µs per loop (mean ± std. dev. of 7 runs, 100 loops each)\n"
     ]
    }
   ],
   "source": [
    "def latitudes(size):\n",
    "    latitudes = []\n",
    "    x = 0\n",
    "    while x < (size):\n",
    "        random_lat = random.randint(-90, 90) + random.random()\n",
    "        latitudes.append(random_lat)\n",
    "        x += 1\n",
    "    return latitudes\n",
    "# Call the function with 1500.\n",
    "%timeit latitudes(1500)"
   ]
  },
  {
   "cell_type": "code",
   "execution_count": null,
   "id": "064bdd52",
   "metadata": {},
   "outputs": [],
   "source": []
  }
 ],
 "metadata": {
  "kernelspec": {
   "display_name": "PythonData",
   "language": "python",
   "name": "pythondata"
  },
  "language_info": {
   "codemirror_mode": {
    "name": "ipython",
    "version": 3
   },
   "file_extension": ".py",
   "mimetype": "text/x-python",
   "name": "python",
   "nbconvert_exporter": "python",
   "pygments_lexer": "ipython3",
   "version": "3.7.11"
  }
 },
 "nbformat": 4,
 "nbformat_minor": 5
}
