{
 "cells": [
  {
   "cell_type": "code",
   "execution_count": 1,
   "id": "20552f2b",
   "metadata": {},
   "outputs": [],
   "source": [
    "# Import Dependencies\n",
    "import pandas as pd\n",
    "import requests\n",
    "import gmaps"
   ]
  },
  {
   "cell_type": "code",
   "execution_count": 2,
   "id": "aed936cd",
   "metadata": {},
   "outputs": [],
   "source": [
    "# Import API Key\n",
    "from config import map_key"
   ]
  },
  {
   "cell_type": "code",
   "execution_count": 3,
   "id": "7d7ec33e",
   "metadata": {},
   "outputs": [],
   "source": [
    "# Configure gmaps\n",
    "gmaps.configure(api_key=map_key)"
   ]
  },
  {
   "cell_type": "code",
   "execution_count": 6,
   "id": "b39822f9",
   "metadata": {},
   "outputs": [],
   "source": [
    "# 1. Read the WeatherPy_Vacation.csv into a dataframe\n",
    "vacation_df = pd.read_csv(\"Weather_Database/WeatherPy_vacation.csv\")"
   ]
  },
  {
   "cell_type": "code",
   "execution_count": 7,
   "id": "1d384b6c",
   "metadata": {},
   "outputs": [
    {
     "data": {
      "text/html": [
       "<div>\n",
       "<style scoped>\n",
       "    .dataframe tbody tr th:only-of-type {\n",
       "        vertical-align: middle;\n",
       "    }\n",
       "\n",
       "    .dataframe tbody tr th {\n",
       "        vertical-align: top;\n",
       "    }\n",
       "\n",
       "    .dataframe thead th {\n",
       "        text-align: right;\n",
       "    }\n",
       "</style>\n",
       "<table border=\"1\" class=\"dataframe\">\n",
       "  <thead>\n",
       "    <tr style=\"text-align: right;\">\n",
       "      <th></th>\n",
       "      <th>City ID</th>\n",
       "      <th>City</th>\n",
       "      <th>Country</th>\n",
       "      <th>Humidity</th>\n",
       "      <th>Max Temp</th>\n",
       "      <th>Description</th>\n",
       "      <th>Lat</th>\n",
       "      <th>Lng</th>\n",
       "      <th>Hotel Name</th>\n",
       "    </tr>\n",
       "  </thead>\n",
       "  <tbody>\n",
       "    <tr>\n",
       "      <th>0</th>\n",
       "      <td>11</td>\n",
       "      <td>Victoria</td>\n",
       "      <td>HK</td>\n",
       "      <td>95</td>\n",
       "      <td>78.85</td>\n",
       "      <td>moderate rain</td>\n",
       "      <td>22.2855</td>\n",
       "      <td>114.1577</td>\n",
       "      <td>Mini Central</td>\n",
       "    </tr>\n",
       "    <tr>\n",
       "      <th>1</th>\n",
       "      <td>14</td>\n",
       "      <td>Oranjestad</td>\n",
       "      <td>AW</td>\n",
       "      <td>78</td>\n",
       "      <td>82.35</td>\n",
       "      <td>few clouds</td>\n",
       "      <td>12.5240</td>\n",
       "      <td>-70.0270</td>\n",
       "      <td>Divi Village Golf &amp; Beach Resort</td>\n",
       "    </tr>\n",
       "    <tr>\n",
       "      <th>2</th>\n",
       "      <td>18</td>\n",
       "      <td>La Asuncion</td>\n",
       "      <td>VE</td>\n",
       "      <td>74</td>\n",
       "      <td>80.33</td>\n",
       "      <td>broken clouds</td>\n",
       "      <td>11.0333</td>\n",
       "      <td>-63.8628</td>\n",
       "      <td>Colinas de Matasiete</td>\n",
       "    </tr>\n",
       "    <tr>\n",
       "      <th>3</th>\n",
       "      <td>30</td>\n",
       "      <td>Georgetown</td>\n",
       "      <td>MY</td>\n",
       "      <td>89</td>\n",
       "      <td>75.15</td>\n",
       "      <td>light rain</td>\n",
       "      <td>5.4112</td>\n",
       "      <td>100.3354</td>\n",
       "      <td>Cititel Penang</td>\n",
       "    </tr>\n",
       "    <tr>\n",
       "      <th>4</th>\n",
       "      <td>34</td>\n",
       "      <td>Grand Gaube</td>\n",
       "      <td>MU</td>\n",
       "      <td>80</td>\n",
       "      <td>75.38</td>\n",
       "      <td>scattered clouds</td>\n",
       "      <td>-20.0064</td>\n",
       "      <td>57.6608</td>\n",
       "      <td>Veranda Paul et Virginie Hotel &amp; Spa</td>\n",
       "    </tr>\n",
       "  </tbody>\n",
       "</table>\n",
       "</div>"
      ],
      "text/plain": [
       "   City ID         City Country  Humidity  Max Temp       Description  \\\n",
       "0       11     Victoria      HK        95     78.85     moderate rain   \n",
       "1       14   Oranjestad      AW        78     82.35        few clouds   \n",
       "2       18  La Asuncion      VE        74     80.33     broken clouds   \n",
       "3       30   Georgetown      MY        89     75.15        light rain   \n",
       "4       34  Grand Gaube      MU        80     75.38  scattered clouds   \n",
       "\n",
       "       Lat       Lng                            Hotel Name  \n",
       "0  22.2855  114.1577                          Mini Central  \n",
       "1  12.5240  -70.0270      Divi Village Golf & Beach Resort  \n",
       "2  11.0333  -63.8628                  Colinas de Matasiete  \n",
       "3   5.4112  100.3354                        Cititel Penang  \n",
       "4 -20.0064   57.6608  Veranda Paul et Virginie Hotel & Spa  "
      ]
     },
     "execution_count": 7,
     "metadata": {},
     "output_type": "execute_result"
    }
   ],
   "source": [
    "# Check df\n",
    "vacation_df.head()"
   ]
  },
  {
   "cell_type": "code",
   "execution_count": 8,
   "id": "9d3c617c",
   "metadata": {},
   "outputs": [],
   "source": [
    "# 2. Using the template add the city name, the country code, the weather description and maximum temperature for the city.\n",
    "info_box_template = \"\"\"\n",
    "<dl>\n",
    "<dt>Hotel Name</dt><dd>{Hotel Name}</dd>\n",
    "<dt>City</dt><dd>{City}</dd>\n",
    "<dt>Country</dt><dd>{Country}</dd>\n",
    "<dt>Max Temp</dt><dd>{Max Temp} °F</dd>\n",
    "</dl>\n",
    "\"\"\""
   ]
  },
  {
   "cell_type": "code",
   "execution_count": 10,
   "id": "3ae1647f",
   "metadata": {},
   "outputs": [],
   "source": [
    "# 3a. Get the data from each row and add it to the formatting template and store the data in a list.\n",
    "hotel_info = [info_box_template.format(**row) for index, row in vacation_df.iterrows()]"
   ]
  },
  {
   "cell_type": "code",
   "execution_count": 11,
   "id": "ffd37948",
   "metadata": {},
   "outputs": [],
   "source": [
    "# 3b. Get the latitude and longitude from each row and store in a new DataFrame.\n",
    "locations =  vacation_df[[\"Lat\", \"Lng\"]]"
   ]
  },
  {
   "cell_type": "code",
   "execution_count": 18,
   "id": "b5367ff5",
   "metadata": {},
   "outputs": [
    {
     "data": {
      "application/vnd.jupyter.widget-view+json": {
       "model_id": "454e08be28fd4c62be2468a61c2e3370",
       "version_major": 2,
       "version_minor": 0
      },
      "text/plain": [
       "Figure(layout=FigureLayout(height='420px'))"
      ]
     },
     "metadata": {},
     "output_type": "display_data"
    }
   ],
   "source": [
    "# 4a. Add a marker layer for each city to the map\n",
    "fig = gmaps.figure(center=(30.0, 31.0), zoom_level=1.5)\n",
    "marker_layer = gmaps.marker_layer(locations, info_box_content=hotel_info)\n",
    "fig.add_layer(marker_layer)\n",
    "\n",
    "# Call the figure\n",
    "fig"
   ]
  },
  {
   "cell_type": "code",
   "execution_count": 27,
   "id": "562d0f17",
   "metadata": {},
   "outputs": [],
   "source": [
    "# From the map above pick 4 cities and create a vacation itinerary route to travel between the four cities. \n",
    "# 5&6. Create DataFrames for each city by filtering the 'vacation_df' using the loc method. \n",
    "# Hint: The starting and ending city should be the same city.\n",
    "\n",
    "vacation_start = vacation_df.loc[vacation_df[\"City\"] == \"Mana\", [\"Lat\",\"Lng\"]].values\n",
    "vacation_end = vacation_df.loc[vacation_df[\"City\"] == \"Mana\",[\"Lat\",\"Lng\"]].values\n",
    "vacation_stop1 = vacation_df.loc[vacation_df[\"City\"] == \"Iracoubo\", [\"Lat\",\"Lng\"]].values\n",
    "vacation_stop2 = vacation_df.loc[vacation_df[\"City\"] == \"Sinmary\",[\"Lat\",\"Lng\"]].values\n",
    "vacation_stop3 = vacation_df.loc[vacation_df[\"City\"] ==\"Cayenne\",[\"Lat\",\"Lng\"]].values "
   ]
  },
  {
   "cell_type": "code",
   "execution_count": 28,
   "id": "ef2c6a6b",
   "metadata": {},
   "outputs": [
    {
     "data": {
      "text/plain": [
       "array([[  5.6592, -53.7767]])"
      ]
     },
     "execution_count": 28,
     "metadata": {},
     "output_type": "execute_result"
    }
   ],
   "source": [
    "vacation_start"
   ]
  },
  {
   "cell_type": "code",
   "execution_count": 39,
   "id": "6bb4158e",
   "metadata": {},
   "outputs": [
    {
     "ename": "TypeError",
     "evalue": "directions_layer() got multiple values for argument 'travel_mode'",
     "output_type": "error",
     "traceback": [
      "\u001b[1;31m---------------------------------------------------------------------------\u001b[0m",
      "\u001b[1;31mTypeError\u001b[0m                                 Traceback (most recent call last)",
      "\u001b[1;32m~\\AppData\\Local\\Temp/ipykernel_6384/1442718742.py\u001b[0m in \u001b[0;36m<module>\u001b[1;34m\u001b[0m\n\u001b[0;32m     23\u001b[0m directions = gmaps.directions_layer(\n\u001b[0;32m     24\u001b[0m         \u001b[0mvacation_start\u001b[0m\u001b[1;33m,\u001b[0m \u001b[0mvacation_stop1\u001b[0m\u001b[1;33m,\u001b[0m \u001b[0mvacation_stop2\u001b[0m\u001b[1;33m,\u001b[0m \u001b[0mvacation_stop3\u001b[0m\u001b[1;33m,\u001b[0m \u001b[0mvacation_end\u001b[0m\u001b[1;33m,\u001b[0m\u001b[1;33m\u001b[0m\u001b[1;33m\u001b[0m\u001b[0m\n\u001b[1;32m---> 25\u001b[1;33m         travel_mode='WALKING' or 'DRIVING' or 'BICYCLING')\n\u001b[0m\u001b[0;32m     26\u001b[0m \u001b[0mfig\u001b[0m\u001b[1;33m.\u001b[0m\u001b[0madd_layer\u001b[0m\u001b[1;33m(\u001b[0m\u001b[0mdirections\u001b[0m\u001b[1;33m)\u001b[0m\u001b[1;33m\u001b[0m\u001b[1;33m\u001b[0m\u001b[0m\n\u001b[0;32m     27\u001b[0m \u001b[1;33m\u001b[0m\u001b[0m\n",
      "\u001b[1;31mTypeError\u001b[0m: directions_layer() got multiple values for argument 'travel_mode'"
     ]
    }
   ],
   "source": [
    "figure_layout = {\n",
    "    'width': '1000px',\n",
    "    'height': '600px',\n",
    "    'border': '1px solid black',\n",
    "    'padding': '1px'\n",
    "}\n",
    "\n",
    "coordinates = vacation_df.loc[vacation_df.Country == 'GF', [\"Lat\", \"Lng\"]].values\n",
    "\n",
    "popups = []\n",
    "for indx, row in vacation_df.loc[vacation_df.Country == 'GF'].iterrows():\n",
    "    info_box_template = f\"\"\"\n",
    "    <dl>\n",
    "    <dt>Name</dt><dd>{row[\"Hotel Name\"]}</dd>\n",
    "    <dt>Country</dt><dd>{row[\"Country\"]}</dd>\n",
    "    </dl>\n",
    "    \"\"\"\n",
    "    popups.append(info_box_template)\n",
    "\n",
    "\n",
    "fig = gmaps.figure(layout=figure_layout, map_type='HYBRID')\n",
    "\n",
    "directions = gmaps.directions_layer(\n",
    "        vacation_start, vacation_stop1, vacation_stop2, vacation_stop3, vacation_end,\n",
    "        travel_mode='WALKING' or 'DRIVING' or 'BICYCLING')\n",
    "fig.add_layer(directions)\n",
    "\n",
    "\n",
    "markers = gmaps.marker_layer(coordinates, info_box_content=popups)\n",
    "fig.add_layer(markers)\n",
    "\n",
    "fig"
   ]
  },
  {
   "cell_type": "code",
   "execution_count": null,
   "id": "76b7854c",
   "metadata": {},
   "outputs": [],
   "source": []
  }
 ],
 "metadata": {
  "kernelspec": {
   "display_name": "PythonData",
   "language": "python",
   "name": "pythondata"
  },
  "language_info": {
   "codemirror_mode": {
    "name": "ipython",
    "version": 3
   },
   "file_extension": ".py",
   "mimetype": "text/x-python",
   "name": "python",
   "nbconvert_exporter": "python",
   "pygments_lexer": "ipython3",
   "version": "3.7.11"
  }
 },
 "nbformat": 4,
 "nbformat_minor": 5
}
