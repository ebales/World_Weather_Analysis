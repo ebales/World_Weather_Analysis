{
 "cells": [
  {
   "cell_type": "code",
   "execution_count": 1,
   "id": "fb9da2c9",
   "metadata": {},
   "outputs": [],
   "source": [
    "# Import Dependencies\n",
    "import pandas as pd\n",
    "import requests\n",
    "import gmaps"
   ]
  },
  {
   "cell_type": "code",
   "execution_count": 2,
   "id": "4824ade4",
   "metadata": {},
   "outputs": [],
   "source": [
    "# Import API Key\n",
    "from config import map_key"
   ]
  },
  {
   "cell_type": "code",
   "execution_count": 3,
   "id": "6d2fc808",
   "metadata": {},
   "outputs": [],
   "source": [
    "# Configure gmaps\n",
    "gmaps.configure(api_key=map_key)"
   ]
  },
  {
   "cell_type": "code",
   "execution_count": null,
   "id": "6c80b0ad",
   "metadata": {},
   "outputs": [],
   "source": [
    "1. Read the WeatherPy_Vacation.csv into a dataframe\n",
    "vacation_df = pd.read_csv(\"WeatherPy_v\")"
   ]
  }
 ],
 "metadata": {
  "kernelspec": {
   "display_name": "PythonData",
   "language": "python",
   "name": "pythondata"
  },
  "language_info": {
   "codemirror_mode": {
    "name": "ipython",
    "version": 3
   },
   "file_extension": ".py",
   "mimetype": "text/x-python",
   "name": "python",
   "nbconvert_exporter": "python",
   "pygments_lexer": "ipython3",
   "version": "3.7.11"
  }
 },
 "nbformat": 4,
 "nbformat_minor": 5
}
